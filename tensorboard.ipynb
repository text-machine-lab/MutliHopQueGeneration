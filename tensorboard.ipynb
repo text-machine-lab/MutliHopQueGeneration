{
 "cells": [
  {
   "cell_type": "code",
   "execution_count": 1,
   "id": "448cf87e-57fa-4148-ab26-32182450c3e2",
   "metadata": {},
   "outputs": [],
   "source": [
    "%load_ext tensorboard"
   ]
  },
  {
   "cell_type": "code",
   "execution_count": 2,
   "id": "fc0bb358-5602-49c6-a854-016fb189c83f",
   "metadata": {},
   "outputs": [],
   "source": [
    "%reload_ext tensorboard"
   ]
  },
  {
   "cell_type": "code",
   "execution_count": 3,
   "id": "4ecf8084-cd67-46c9-baef-6d0df7ec21eb",
   "metadata": {},
   "outputs": [
    {
     "name": "stdout",
     "output_type": "stream",
     "text": [
      "Copying gs://t5_fewshot_mqg/models/t5_experiment_1/3B/8_SHOT/all/validation_eval/events.out.tfevents.1655140774.instance-1...\n",
      "/ [1 files][171.1 KiB/171.1 KiB]                                                \n",
      "Operation completed over 1 objects/171.1 KiB.                                    \n"
     ]
    }
   ],
   "source": [
    "!rm -rf events*\n",
    "#!gsutil cp gs://t5_fewshot_mqg/models/t5_baseline_0/3B/128_SHOT/supp/events.out.tfevents.1654336017.instance-1 ./\n",
    "#!gsutil cp gs://t5_fewshot_mqg/models/t5_baseline_0/3B/128_SHOT/supp/validation_eval/events* ./\n",
    "#!gsutil cp gs://t5_fewshot_mqg/models/t5_baseline_0/3B/128_SHOT/supp/test_eval/events* ./\n",
    "!gsutil cp gs://t5_fewshot_mqg/models/t5_experiment_1/3B/8_SHOT/all/validation_eval/events* ./"
   ]
  },
  {
   "cell_type": "code",
   "execution_count": 7,
   "id": "cf77d2f3-f0d1-4c14-8071-6e64f794d9a9",
   "metadata": {},
   "outputs": [
    {
     "data": {
      "text/html": [
       "\n",
       "      <iframe id=\"tensorboard-frame-b31011fc99f81f17\" width=\"100%\" height=\"800\" frameborder=\"0\">\n",
       "      </iframe>\n",
       "      <script>\n",
       "        (function() {\n",
       "          const frame = document.getElementById(\"tensorboard-frame-b31011fc99f81f17\");\n",
       "          const url = new URL(\"/proxy/55555/\", window.location);\n",
       "          const port = 0;\n",
       "          if (port) {\n",
       "            url.port = port;\n",
       "          }\n",
       "          frame.src = url;\n",
       "        })();\n",
       "      </script>\n",
       "    "
      ],
      "text/plain": [
       "<IPython.core.display.HTML object>"
      ]
     },
     "metadata": {},
     "output_type": "display_data"
    }
   ],
   "source": [
    "!kill 31541\n",
    "%tensorboard --logdir=\"./\" --port=55555"
   ]
  },
  {
   "cell_type": "code",
   "execution_count": null,
   "id": "db2b3b93-20ba-401f-8fff-e7d284d7ca45",
   "metadata": {},
   "outputs": [],
   "source": []
  }
 ],
 "metadata": {
  "kernelspec": {
   "display_name": "t5env",
   "language": "python",
   "name": "t5env"
  },
  "language_info": {
   "codemirror_mode": {
    "name": "ipython",
    "version": 3
   },
   "file_extension": ".py",
   "mimetype": "text/x-python",
   "name": "python",
   "nbconvert_exporter": "python",
   "pygments_lexer": "ipython3",
   "version": "3.7.12"
  }
 },
 "nbformat": 4,
 "nbformat_minor": 5
}
