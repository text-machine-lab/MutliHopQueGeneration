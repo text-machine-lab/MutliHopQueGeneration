{
 "cells": [
  {
   "cell_type": "code",
   "execution_count": null,
   "id": "03a20afc-e498-47e0-8316-2ad81c5db268",
   "metadata": {},
   "outputs": [],
   "source": [
    "import json\n",
    "with open('data.json', 'r') as f:\n",
    "    predict_data = json.load(f)"
   ]
  },
  {
   "cell_type": "code",
   "execution_count": null,
   "id": "41552cfe-7307-4aea-ab67-c40ed2197b5c",
   "metadata": {},
   "outputs": [],
   "source": [
    "from pycocoevalcap.bleu.bleu import Bleu\n",
    "from pycocoevalcap.meteor.meteor import Meteor\n",
    "from pycocoevalcap.rouge.rouge import Rouge\n",
    "from statistics import mean\n",
    "import re\n",
    "b4m, mm, rm = Bleu(4), Meteor(), Rouge()\n",
    "\n",
    "bleu4 = lambda targets, predictions: {'bleu4': 100 * mean([b4m.compute_score({i:[targets[i]]}, {i:[predictions[i]]})[0][3] for i in range(len(targets))])}\n",
    "bleu3 = lambda targets, predictions: {'bleu3': 100 * mean([b4m.compute_score({i:[targets[i]]}, {i:[predictions[i]]})[0][2] for i in range(len(targets))])}\n",
    "bleu2 = lambda targets, predictions: {'bleu2': 100 * mean([b4m.compute_score({i:[targets[i]]}, {i:[predictions[i]]})[0][1] for i in range(len(targets))])}\n",
    "bleu1 = lambda targets, predictions: {'bleu1': 100 * mean([b4m.compute_score({i:[targets[i]]}, {i:[predictions[i]]})[0][0] for i in range(len(targets))])}\n",
    "\n",
    "rouge = lambda targets, predictions: {'rougeL': 100 * mean([rm.compute_score({i:[targets[i]]}, {i:[predictions[i]]})[0] for i in range(len(targets))])}\n",
    "\n",
    "def meteor(targets, predictions):\n",
    "    from pycocoevalcap.meteor.meteor import Meteor\n",
    "    return {'meteor': 100 * mean([mm.compute_score({i:[targets[i]]}, {i:[predictions[i]]})[0] for i in range(len(targets))])}\n",
    "\n",
    "def remove_tags_and_strip(string, **unused_kwargs): \n",
    "    return re.sub('<extra_id_[0-9]{1,2}>', '', string).strip()"
   ]
  },
  {
   "cell_type": "code",
   "execution_count": null,
   "id": "8eb843b5-f790-4ec2-a80f-30a910da9797",
   "metadata": {},
   "outputs": [],
   "source": [
    "targets, predictions = [], []\n",
    "for i in range(len(predict_data)):\n",
    "    gold = predict_data[i]['gold_q']\n",
    "    predq = predict_data[i].get('q', None)\n",
    "    if predq != None:\n",
    "        targets.append(gold)\n",
    "        predictions.append(remove_tags_and_strip(predq))\n",
    "    gold = predict_data[i]['gold_q']\n",
    "    predq = predict_data[i].get('q_c', None)\n",
    "    if predq != None:\n",
    "        targets.append(gold)\n",
    "        predictions.append(remove_tags_and_strip(predq))\n",
    "        \n",
    "b4 = bleu4(targets, predictions)\n",
    "b3 = bleu3(targets, predictions)\n",
    "b2 = bleu2(targets, predictions)\n",
    "b1 = bleu1(targets, predictions)\n",
    "r = rouge(targets, predictions)\n",
    "m = meteor(targets, predictions)\n",
    "\n",
    "metrics = {}\n",
    "metrics.update(b4)\n",
    "metrics.update(b3)\n",
    "metrics.update(b2)\n",
    "metrics.update(b1)\n",
    "metrics.update(r)\n",
    "metrics.update(m)"
   ]
  },
  {
   "cell_type": "code",
   "execution_count": 42,
   "id": "09ecc478-1c16-4180-8f87-43ba2cd567ba",
   "metadata": {},
   "outputs": [
    {
     "data": {
      "text/plain": [
       "'bleu1: 30.46, bleu2: 19.38, bleu3: 12.25, bleu4: 8.11, meteor: 23.61, rougeL: 28.85'"
      ]
     },
     "execution_count": 42,
     "metadata": {},
     "output_type": "execute_result"
    }
   ],
   "source": [
    "', '.join([f\"{key}: {metrics[key]:.2f}\" for key in sorted(metrics.keys())])"
   ]
  },
  {
   "cell_type": "code",
   "execution_count": 57,
   "id": "4788b36f-f9f0-4936-9787-e6bcf767ba23",
   "metadata": {},
   "outputs": [],
   "source": [
    "import tensorflow.compat.v1 as tf\n",
    "import os\n",
    "MODEL_DIR = 'gs://t5_fewshot_mqg/models/t5_experiment_2/3B/8_SHOT/supp/'\n",
    "eval_checkpoints =  [int(fp.split('-')[-1][:-5]) for fp in tf.io.gfile.glob(os.path.join(MODEL_DIR, 'model.ckpt-*.meta'))]"
   ]
  },
  {
   "cell_type": "code",
   "execution_count": 58,
   "id": "8af9004c-80d5-4fd0-a73a-3c9b1395b20e",
   "metadata": {},
   "outputs": [
    {
     "data": {
      "text/plain": [
       "[1000000, 1001000, 1002000, 1003000, 1004000, 1005000]"
      ]
     },
     "execution_count": 58,
     "metadata": {},
     "output_type": "execute_result"
    }
   ],
   "source": [
    "eval_checkpoints"
   ]
  },
  {
   "cell_type": "code",
   "execution_count": 63,
   "id": "6e9c9093-6b5d-4d04-9864-8376418fd0be",
   "metadata": {},
   "outputs": [
    {
     "name": "stdout",
     "output_type": "stream",
     "text": [
      "10.010372638702393\n"
     ]
    }
   ],
   "source": [
    "import time\n",
    "s = time.time()\n",
    "time.sleep(10)\n",
    "e = time.time()\n",
    "\n",
    "print(e-s)"
   ]
  },
  {
   "cell_type": "code",
   "execution_count": 66,
   "id": "b665b52d-f86d-498b-b0d8-894446c89782",
   "metadata": {},
   "outputs": [],
   "source": [
    "e = sorted(eval_checkpoints, reverse=True)"
   ]
  },
  {
   "cell_type": "code",
   "execution_count": 67,
   "id": "79d44a40-a785-497f-aa61-9c979e2503f1",
   "metadata": {},
   "outputs": [
    {
     "data": {
      "text/plain": [
       "[1005000, 1004000, 1003000, 1002000, 1001000, 1000000]"
      ]
     },
     "execution_count": 67,
     "metadata": {},
     "output_type": "execute_result"
    }
   ],
   "source": [
    "MODEL\n",
    "eval_jsons =  [int(fp.split('-')[-1][:-5]) for fp in tf.io.gfile.glob(os.path.join(MODEL_DIR, 'model.ckpt-*.meta'))]\n",
    "eval_checkpoints = sorted(eval_checkpoints, reverse=True)\n",
    "print(f\"Found checkpoints eval_checkpoints: {eval_checkpoints}\")"
   ]
  }
 ],
 "metadata": {
  "kernelspec": {
   "display_name": "Python 3.8.5 64-bit",
   "language": "python",
   "name": "python3"
  },
  "language_info": {
   "codemirror_mode": {
    "name": "ipython",
    "version": 3
   },
   "file_extension": ".py",
   "mimetype": "text/x-python",
   "name": "python",
   "nbconvert_exporter": "python",
   "pygments_lexer": "ipython3",
   "version": "3.8.5"
  },
  "vscode": {
   "interpreter": {
    "hash": "916dbcbb3f70747c44a77c7bcd40155683ae19c65e1c03b4aa3499c5328201f1"
   }
  }
 },
 "nbformat": 4,
 "nbformat_minor": 5
}
